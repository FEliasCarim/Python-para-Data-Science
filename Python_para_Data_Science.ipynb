{
  "nbformat": 4,
  "nbformat_minor": 0,
  "metadata": {
    "colab": {
      "provenance": [],
      "collapsed_sections": [],
      "authorship_tag": "ABX9TyMmXi9fCvKvGL6dV+T1Clod",
      "include_colab_link": true
    },
    "kernelspec": {
      "name": "python3",
      "display_name": "Python 3"
    },
    "language_info": {
      "name": "python"
    }
  },
  "cells": [
    {
      "cell_type": "markdown",
      "metadata": {
        "id": "view-in-github",
        "colab_type": "text"
      },
      "source": [
        "<a href=\"https://colab.research.google.com/github/FEliasCarim/Python-para-Data-Science/blob/main/Python_para_Data_Science.ipynb\" target=\"_parent\"><img src=\"https://colab.research.google.com/assets/colab-badge.svg\" alt=\"Open In Colab\"/></a>"
      ]
    },
    {
      "cell_type": "code",
      "execution_count": null,
      "metadata": {
        "colab": {
          "base_uri": "https://localhost:8080/"
        },
        "id": "2wJdRlGQLK3q",
        "outputId": "5c53dd8e-be22-4bfd-8b56-508fa8c5e327"
      },
      "outputs": [
        {
          "output_type": "stream",
          "name": "stdout",
          "text": [
            "['apple', 'kwie', 'orange', 'pineapple']\n"
          ]
        }
      ],
      "source": [
        "lista_frutas= ['apple','kwie','orange','pineapple']\n",
        "\n",
        "print(lista_frutas)\n"
      ]
    },
    {
      "cell_type": "code",
      "source": [],
      "metadata": {
        "id": "3fWpUxPzPsj6"
      },
      "execution_count": null,
      "outputs": []
    },
    {
      "cell_type": "code",
      "source": [
        "type(lista_frutas)\n"
      ],
      "metadata": {
        "colab": {
          "base_uri": "https://localhost:8080/"
        },
        "id": "aI_QrSkPOOwU",
        "outputId": "2309b71b-8cf2-4c7d-ac36-75d60d385fb7"
      },
      "execution_count": null,
      "outputs": [
        {
          "output_type": "execute_result",
          "data": {
            "text/plain": [
              "list"
            ]
          },
          "metadata": {},
          "execution_count": 3
        }
      ]
    },
    {
      "cell_type": "code",
      "source": [
        "#Importar Segundo elemento da lista_frutas\n",
        "lista_frutas[1]\n"
      ],
      "metadata": {
        "colab": {
          "base_uri": "https://localhost:8080/",
          "height": 35
        },
        "id": "mgsE4ZHHS6tm",
        "outputId": "7a01e1f8-3eb9-4b63-9dd8-e720eb09e540"
      },
      "execution_count": null,
      "outputs": [
        {
          "output_type": "execute_result",
          "data": {
            "text/plain": [
              "'kwie'"
            ],
            "application/vnd.google.colaboratory.intrinsic+json": {
              "type": "string"
            }
          },
          "metadata": {},
          "execution_count": 4
        }
      ]
    },
    {
      "cell_type": "code",
      "source": [
        "#importar Primeiro elemento da lista\n",
        "lista_frutas[0]"
      ],
      "metadata": {
        "colab": {
          "base_uri": "https://localhost:8080/",
          "height": 35
        },
        "id": "EdInfQJYTOo9",
        "outputId": "ae9e5dab-4816-4529-b12f-50b2386d9f3a"
      },
      "execution_count": null,
      "outputs": [
        {
          "output_type": "execute_result",
          "data": {
            "text/plain": [
              "'apple'"
            ],
            "application/vnd.google.colaboratory.intrinsic+json": {
              "type": "string"
            }
          },
          "metadata": {},
          "execution_count": 5
        }
      ]
    },
    {
      "cell_type": "code",
      "source": [
        "#Atualzar elemento na lista\n",
        "lista_frutas[2]='tomator'"
      ],
      "metadata": {
        "id": "rt9zj8aWUTcC"
      },
      "execution_count": null,
      "outputs": []
    },
    {
      "cell_type": "code",
      "source": [
        "print (lista_frutas)"
      ],
      "metadata": {
        "colab": {
          "base_uri": "https://localhost:8080/"
        },
        "id": "vvOU9RjgUmQw",
        "outputId": "22038a66-138b-42f1-d445-0e962bcf34de"
      },
      "execution_count": null,
      "outputs": [
        {
          "output_type": "stream",
          "name": "stdout",
          "text": [
            "['apple', 'kwie', 'tomator', 'pineapple']\n"
          ]
        }
      ]
    },
    {
      "cell_type": "code",
      "source": [
        "if \"tomator\" in lista_frutas:\n",
        "  print('Existe a fruta tomator')\n"
      ],
      "metadata": {
        "colab": {
          "base_uri": "https://localhost:8080/"
        },
        "id": "nA36JkXOUxR6",
        "outputId": "3c4811ac-e961-4572-f749-652aa264f099"
      },
      "execution_count": null,
      "outputs": [
        {
          "output_type": "stream",
          "name": "stdout",
          "text": [
            "Existe a fruta tomator\n"
          ]
        }
      ]
    },
    {
      "cell_type": "code",
      "source": [
        "#inserir um item na lista\n",
        "lista_frutas.insert (2,'melon')"
      ],
      "metadata": {
        "id": "lWDFvz6gYEhm"
      },
      "execution_count": null,
      "outputs": []
    },
    {
      "cell_type": "code",
      "source": [
        "lista_frutas\n"
      ],
      "metadata": {
        "colab": {
          "base_uri": "https://localhost:8080/"
        },
        "id": "RXSt25SQYeXE",
        "outputId": "8b576577-14c4-4ce6-bd7a-63b5a28d260c"
      },
      "execution_count": null,
      "outputs": [
        {
          "output_type": "execute_result",
          "data": {
            "text/plain": [
              "['apple', 'kwie', 'melon', 'tomator', 'pineapple']"
            ]
          },
          "metadata": {},
          "execution_count": 12
        }
      ]
    }
  ]
}